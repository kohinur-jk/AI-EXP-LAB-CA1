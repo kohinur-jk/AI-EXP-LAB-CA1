{
 "cells": [
  {
   "cell_type": "code",
   "execution_count": 1,
   "id": "a6a12ca5",
   "metadata": {},
   "outputs": [],
   "source": [
    "import pandas as pd\n",
    "import numpy as np\n",
    "from sklearn.tree import DecisionTreeRegressor\n",
    "import torch\n",
    "import torch.nn as nn"
   ]
  },
  {
   "cell_type": "code",
   "execution_count": 2,
   "id": "fc90dac0",
   "metadata": {},
   "outputs": [],
   "source": [
    "tr = pd.read_csv('price_data_tr.csv')"
   ]
  },
  {
   "cell_type": "code",
   "execution_count": 3,
   "id": "d14b107c",
   "metadata": {},
   "outputs": [
    {
     "data": {
      "text/html": [
       "<div>\n",
       "<style scoped>\n",
       "    .dataframe tbody tr th:only-of-type {\n",
       "        vertical-align: middle;\n",
       "    }\n",
       "\n",
       "    .dataframe tbody tr th {\n",
       "        vertical-align: top;\n",
       "    }\n",
       "\n",
       "    .dataframe thead th {\n",
       "        text-align: right;\n",
       "    }\n",
       "</style>\n",
       "<table border=\"1\" class=\"dataframe\">\n",
       "  <thead>\n",
       "    <tr style=\"text-align: right;\">\n",
       "      <th></th>\n",
       "      <th>id</th>\n",
       "      <th>price</th>\n",
       "      <th>bedrooms</th>\n",
       "      <th>bathrooms</th>\n",
       "      <th>sqft_living</th>\n",
       "      <th>sqft_lot</th>\n",
       "      <th>floors</th>\n",
       "      <th>waterfront</th>\n",
       "      <th>view</th>\n",
       "      <th>condition</th>\n",
       "      <th>grade</th>\n",
       "      <th>sqft_above</th>\n",
       "      <th>sqft_basement</th>\n",
       "      <th>yr_built</th>\n",
       "      <th>yr_renovated</th>\n",
       "      <th>zipcode</th>\n",
       "      <th>lat</th>\n",
       "      <th>long</th>\n",
       "      <th>sqft_living15</th>\n",
       "      <th>sqft_lot15</th>\n",
       "    </tr>\n",
       "  </thead>\n",
       "  <tbody>\n",
       "    <tr>\n",
       "      <th>count</th>\n",
       "      <td>1.296800e+04</td>\n",
       "      <td>1.296800e+04</td>\n",
       "      <td>12968.000000</td>\n",
       "      <td>12968.000000</td>\n",
       "      <td>12968.000000</td>\n",
       "      <td>1.296800e+04</td>\n",
       "      <td>12968.000000</td>\n",
       "      <td>12968.000000</td>\n",
       "      <td>12968.000000</td>\n",
       "      <td>12968.000000</td>\n",
       "      <td>12968.000000</td>\n",
       "      <td>12968.000000</td>\n",
       "      <td>12968.000000</td>\n",
       "      <td>12968.000000</td>\n",
       "      <td>12968.000000</td>\n",
       "      <td>12968.000000</td>\n",
       "      <td>12968.000000</td>\n",
       "      <td>12968.000000</td>\n",
       "      <td>12968.000000</td>\n",
       "      <td>12968.000000</td>\n",
       "    </tr>\n",
       "    <tr>\n",
       "      <th>mean</th>\n",
       "      <td>4.571301e+09</td>\n",
       "      <td>5.387445e+05</td>\n",
       "      <td>3.369525</td>\n",
       "      <td>2.117829</td>\n",
       "      <td>2078.315623</td>\n",
       "      <td>1.495213e+04</td>\n",
       "      <td>1.497494</td>\n",
       "      <td>0.007711</td>\n",
       "      <td>0.233189</td>\n",
       "      <td>3.403763</td>\n",
       "      <td>7.658853</td>\n",
       "      <td>1786.903378</td>\n",
       "      <td>291.412246</td>\n",
       "      <td>1971.137878</td>\n",
       "      <td>85.090839</td>\n",
       "      <td>98078.229488</td>\n",
       "      <td>47.560215</td>\n",
       "      <td>-122.214346</td>\n",
       "      <td>1986.085287</td>\n",
       "      <td>12828.123535</td>\n",
       "    </tr>\n",
       "    <tr>\n",
       "      <th>std</th>\n",
       "      <td>2.879111e+09</td>\n",
       "      <td>3.619882e+05</td>\n",
       "      <td>0.904955</td>\n",
       "      <td>0.769985</td>\n",
       "      <td>916.026315</td>\n",
       "      <td>4.158912e+04</td>\n",
       "      <td>0.538748</td>\n",
       "      <td>0.087478</td>\n",
       "      <td>0.766119</td>\n",
       "      <td>0.640519</td>\n",
       "      <td>1.170140</td>\n",
       "      <td>824.992857</td>\n",
       "      <td>439.130219</td>\n",
       "      <td>29.258371</td>\n",
       "      <td>403.203649</td>\n",
       "      <td>53.524760</td>\n",
       "      <td>0.138838</td>\n",
       "      <td>0.141241</td>\n",
       "      <td>682.604738</td>\n",
       "      <td>28107.671504</td>\n",
       "    </tr>\n",
       "    <tr>\n",
       "      <th>min</th>\n",
       "      <td>1.000102e+06</td>\n",
       "      <td>8.000000e+04</td>\n",
       "      <td>0.000000</td>\n",
       "      <td>0.000000</td>\n",
       "      <td>370.000000</td>\n",
       "      <td>5.720000e+02</td>\n",
       "      <td>1.000000</td>\n",
       "      <td>0.000000</td>\n",
       "      <td>0.000000</td>\n",
       "      <td>1.000000</td>\n",
       "      <td>3.000000</td>\n",
       "      <td>370.000000</td>\n",
       "      <td>0.000000</td>\n",
       "      <td>1900.000000</td>\n",
       "      <td>0.000000</td>\n",
       "      <td>98001.000000</td>\n",
       "      <td>47.155900</td>\n",
       "      <td>-122.515000</td>\n",
       "      <td>460.000000</td>\n",
       "      <td>659.000000</td>\n",
       "    </tr>\n",
       "    <tr>\n",
       "      <th>25%</th>\n",
       "      <td>2.112701e+09</td>\n",
       "      <td>3.249500e+05</td>\n",
       "      <td>3.000000</td>\n",
       "      <td>1.750000</td>\n",
       "      <td>1421.500000</td>\n",
       "      <td>5.040000e+03</td>\n",
       "      <td>1.000000</td>\n",
       "      <td>0.000000</td>\n",
       "      <td>0.000000</td>\n",
       "      <td>3.000000</td>\n",
       "      <td>7.000000</td>\n",
       "      <td>1190.000000</td>\n",
       "      <td>0.000000</td>\n",
       "      <td>1952.000000</td>\n",
       "      <td>0.000000</td>\n",
       "      <td>98033.000000</td>\n",
       "      <td>47.470975</td>\n",
       "      <td>-122.329000</td>\n",
       "      <td>1490.000000</td>\n",
       "      <td>5100.000000</td>\n",
       "    </tr>\n",
       "    <tr>\n",
       "      <th>50%</th>\n",
       "      <td>3.905030e+09</td>\n",
       "      <td>4.500000e+05</td>\n",
       "      <td>3.000000</td>\n",
       "      <td>2.250000</td>\n",
       "      <td>1910.000000</td>\n",
       "      <td>7.609000e+03</td>\n",
       "      <td>1.500000</td>\n",
       "      <td>0.000000</td>\n",
       "      <td>0.000000</td>\n",
       "      <td>3.000000</td>\n",
       "      <td>7.000000</td>\n",
       "      <td>1560.000000</td>\n",
       "      <td>0.000000</td>\n",
       "      <td>1975.000000</td>\n",
       "      <td>0.000000</td>\n",
       "      <td>98065.000000</td>\n",
       "      <td>47.572950</td>\n",
       "      <td>-122.231000</td>\n",
       "      <td>1840.000000</td>\n",
       "      <td>7625.500000</td>\n",
       "    </tr>\n",
       "    <tr>\n",
       "      <th>75%</th>\n",
       "      <td>7.312125e+09</td>\n",
       "      <td>6.400000e+05</td>\n",
       "      <td>4.000000</td>\n",
       "      <td>2.500000</td>\n",
       "      <td>2540.000000</td>\n",
       "      <td>1.058725e+04</td>\n",
       "      <td>2.000000</td>\n",
       "      <td>0.000000</td>\n",
       "      <td>0.000000</td>\n",
       "      <td>4.000000</td>\n",
       "      <td>8.000000</td>\n",
       "      <td>2210.000000</td>\n",
       "      <td>550.000000</td>\n",
       "      <td>1997.000000</td>\n",
       "      <td>0.000000</td>\n",
       "      <td>98118.000000</td>\n",
       "      <td>47.678200</td>\n",
       "      <td>-122.125000</td>\n",
       "      <td>2360.000000</td>\n",
       "      <td>10053.500000</td>\n",
       "    </tr>\n",
       "    <tr>\n",
       "      <th>max</th>\n",
       "      <td>9.895000e+09</td>\n",
       "      <td>7.062500e+06</td>\n",
       "      <td>10.000000</td>\n",
       "      <td>8.000000</td>\n",
       "      <td>13540.000000</td>\n",
       "      <td>1.651359e+06</td>\n",
       "      <td>3.500000</td>\n",
       "      <td>1.000000</td>\n",
       "      <td>4.000000</td>\n",
       "      <td>5.000000</td>\n",
       "      <td>13.000000</td>\n",
       "      <td>9410.000000</td>\n",
       "      <td>4130.000000</td>\n",
       "      <td>2015.000000</td>\n",
       "      <td>2015.000000</td>\n",
       "      <td>98199.000000</td>\n",
       "      <td>47.777600</td>\n",
       "      <td>-121.315000</td>\n",
       "      <td>6110.000000</td>\n",
       "      <td>871200.000000</td>\n",
       "    </tr>\n",
       "  </tbody>\n",
       "</table>\n",
       "</div>"
      ],
      "text/plain": [
       "                 id         price      bedrooms     bathrooms   sqft_living  \\\n",
       "count  1.296800e+04  1.296800e+04  12968.000000  12968.000000  12968.000000   \n",
       "mean   4.571301e+09  5.387445e+05      3.369525      2.117829   2078.315623   \n",
       "std    2.879111e+09  3.619882e+05      0.904955      0.769985    916.026315   \n",
       "min    1.000102e+06  8.000000e+04      0.000000      0.000000    370.000000   \n",
       "25%    2.112701e+09  3.249500e+05      3.000000      1.750000   1421.500000   \n",
       "50%    3.905030e+09  4.500000e+05      3.000000      2.250000   1910.000000   \n",
       "75%    7.312125e+09  6.400000e+05      4.000000      2.500000   2540.000000   \n",
       "max    9.895000e+09  7.062500e+06     10.000000      8.000000  13540.000000   \n",
       "\n",
       "           sqft_lot        floors    waterfront          view     condition  \\\n",
       "count  1.296800e+04  12968.000000  12968.000000  12968.000000  12968.000000   \n",
       "mean   1.495213e+04      1.497494      0.007711      0.233189      3.403763   \n",
       "std    4.158912e+04      0.538748      0.087478      0.766119      0.640519   \n",
       "min    5.720000e+02      1.000000      0.000000      0.000000      1.000000   \n",
       "25%    5.040000e+03      1.000000      0.000000      0.000000      3.000000   \n",
       "50%    7.609000e+03      1.500000      0.000000      0.000000      3.000000   \n",
       "75%    1.058725e+04      2.000000      0.000000      0.000000      4.000000   \n",
       "max    1.651359e+06      3.500000      1.000000      4.000000      5.000000   \n",
       "\n",
       "              grade    sqft_above  sqft_basement      yr_built  yr_renovated  \\\n",
       "count  12968.000000  12968.000000   12968.000000  12968.000000  12968.000000   \n",
       "mean       7.658853   1786.903378     291.412246   1971.137878     85.090839   \n",
       "std        1.170140    824.992857     439.130219     29.258371    403.203649   \n",
       "min        3.000000    370.000000       0.000000   1900.000000      0.000000   \n",
       "25%        7.000000   1190.000000       0.000000   1952.000000      0.000000   \n",
       "50%        7.000000   1560.000000       0.000000   1975.000000      0.000000   \n",
       "75%        8.000000   2210.000000     550.000000   1997.000000      0.000000   \n",
       "max       13.000000   9410.000000    4130.000000   2015.000000   2015.000000   \n",
       "\n",
       "            zipcode           lat          long  sqft_living15     sqft_lot15  \n",
       "count  12968.000000  12968.000000  12968.000000   12968.000000   12968.000000  \n",
       "mean   98078.229488     47.560215   -122.214346    1986.085287   12828.123535  \n",
       "std       53.524760      0.138838      0.141241     682.604738   28107.671504  \n",
       "min    98001.000000     47.155900   -122.515000     460.000000     659.000000  \n",
       "25%    98033.000000     47.470975   -122.329000    1490.000000    5100.000000  \n",
       "50%    98065.000000     47.572950   -122.231000    1840.000000    7625.500000  \n",
       "75%    98118.000000     47.678200   -122.125000    2360.000000   10053.500000  \n",
       "max    98199.000000     47.777600   -121.315000    6110.000000  871200.000000  "
      ]
     },
     "execution_count": 3,
     "metadata": {},
     "output_type": "execute_result"
    }
   ],
   "source": [
    "tr.describe()"
   ]
  },
  {
   "cell_type": "code",
   "execution_count": 4,
   "id": "9cf9a33a",
   "metadata": {},
   "outputs": [
    {
     "name": "stdout",
     "output_type": "stream",
     "text": [
      "<class 'pandas.core.frame.DataFrame'>\n",
      "RangeIndex: 12968 entries, 0 to 12967\n",
      "Data columns (total 21 columns):\n",
      " #   Column         Non-Null Count  Dtype  \n",
      "---  ------         --------------  -----  \n",
      " 0   id             12968 non-null  int64  \n",
      " 1   date           12968 non-null  object \n",
      " 2   price          12968 non-null  float64\n",
      " 3   bedrooms       12968 non-null  int64  \n",
      " 4   bathrooms      12968 non-null  float64\n",
      " 5   sqft_living    12968 non-null  int64  \n",
      " 6   sqft_lot       12968 non-null  int64  \n",
      " 7   floors         12968 non-null  float64\n",
      " 8   waterfront     12968 non-null  int64  \n",
      " 9   view           12968 non-null  int64  \n",
      " 10  condition      12968 non-null  int64  \n",
      " 11  grade          12968 non-null  int64  \n",
      " 12  sqft_above     12968 non-null  int64  \n",
      " 13  sqft_basement  12968 non-null  int64  \n",
      " 14  yr_built       12968 non-null  int64  \n",
      " 15  yr_renovated   12968 non-null  int64  \n",
      " 16  zipcode        12968 non-null  int64  \n",
      " 17  lat            12968 non-null  float64\n",
      " 18  long           12968 non-null  float64\n",
      " 19  sqft_living15  12968 non-null  int64  \n",
      " 20  sqft_lot15     12968 non-null  int64  \n",
      "dtypes: float64(5), int64(15), object(1)\n",
      "memory usage: 2.1+ MB\n"
     ]
    }
   ],
   "source": [
    "tr.info()"
   ]
  },
  {
   "cell_type": "code",
   "execution_count": 5,
   "id": "437323c7",
   "metadata": {},
   "outputs": [
    {
     "data": {
      "text/plain": [
       "(-121.315, -122.515)"
      ]
     },
     "execution_count": 5,
     "metadata": {},
     "output_type": "execute_result"
    }
   ],
   "source": [
    "tr['long'].max(), tr['long'].min(), "
   ]
  },
  {
   "cell_type": "code",
   "execution_count": 6,
   "id": "f10dee7f",
   "metadata": {},
   "outputs": [],
   "source": [
    "#tr['long'] = (tr['long']-tr['long'].mean())/(tr['long'].max() - tr['long'].min())"
   ]
  },
  {
   "cell_type": "code",
   "execution_count": 7,
   "id": "58a618c6",
   "metadata": {},
   "outputs": [],
   "source": [
    "#finding NAN columns\n",
    "\n",
    "nan_col = np.any(pd.isna(tr), axis = 0)\n",
    "nan_col = list(nan_col[nan_col == True].index)"
   ]
  },
  {
   "cell_type": "code",
   "execution_count": 8,
   "id": "227b9442",
   "metadata": {},
   "outputs": [
    {
     "data": {
      "text/plain": [
       "Index(['id', 'date', 'price', 'bedrooms', 'bathrooms', 'sqft_living',\n",
       "       'sqft_lot', 'floors', 'waterfront', 'view', 'condition', 'grade',\n",
       "       'sqft_above', 'sqft_basement', 'yr_built', 'yr_renovated', 'zipcode',\n",
       "       'lat', 'long', 'sqft_living15', 'sqft_lot15'],\n",
       "      dtype='object')"
      ]
     },
     "execution_count": 8,
     "metadata": {},
     "output_type": "execute_result"
    }
   ],
   "source": [
    "tr.columns"
   ]
  },
  {
   "cell_type": "code",
   "execution_count": 9,
   "id": "3d20c722",
   "metadata": {},
   "outputs": [],
   "source": [
    "tr=tr.drop(['id', 'date'], axis=1)"
   ]
  },
  {
   "cell_type": "code",
   "execution_count": 10,
   "id": "b7dbff9b",
   "metadata": {},
   "outputs": [
    {
     "data": {
      "text/plain": [
       "Index(['price', 'bedrooms', 'bathrooms', 'sqft_living', 'sqft_lot', 'floors',\n",
       "       'waterfront', 'view', 'condition', 'grade', 'sqft_above',\n",
       "       'sqft_basement', 'yr_built', 'yr_renovated', 'zipcode', 'lat', 'long',\n",
       "       'sqft_living15', 'sqft_lot15'],\n",
       "      dtype='object')"
      ]
     },
     "execution_count": 10,
     "metadata": {},
     "output_type": "execute_result"
    }
   ],
   "source": [
    "tr.columns"
   ]
  },
  {
   "cell_type": "code",
   "execution_count": 11,
   "id": "b2968bdd",
   "metadata": {},
   "outputs": [
    {
     "data": {
      "text/plain": [
       "(['bedrooms',\n",
       "  'bathrooms',\n",
       "  'sqft_living',\n",
       "  'sqft_lot',\n",
       "  'floors',\n",
       "  'waterfront',\n",
       "  'view',\n",
       "  'condition',\n",
       "  'grade',\n",
       "  'sqft_above',\n",
       "  'sqft_basement',\n",
       "  'yr_built',\n",
       "  'yr_renovated',\n",
       "  'zipcode',\n",
       "  'lat',\n",
       "  'long',\n",
       "  'sqft_living15',\n",
       "  'sqft_lot15'],\n",
       " ['price'])"
      ]
     },
     "execution_count": 11,
     "metadata": {},
     "output_type": "execute_result"
    }
   ],
   "source": [
    "tr_x_col = list(tr.columns)   # make a list of columns\n",
    "tr_x_col.remove('price')\n",
    "tr_y_col = ['price']\n",
    "\n",
    "tr_x_col, tr_y_col"
   ]
  },
  {
   "cell_type": "code",
   "execution_count": 12,
   "id": "b1fc1388",
   "metadata": {},
   "outputs": [],
   "source": [
    "tr_x_df = pd.DataFrame(tr, columns=tr_x_col)\n",
    "tr_y_df = pd.DataFrame(tr, columns=tr_y_col)"
   ]
  },
  {
   "cell_type": "code",
   "execution_count": 13,
   "id": "6070e6df",
   "metadata": {},
   "outputs": [],
   "source": [
    "tr_x = torch.tensor(tr_x_df.values, dtype=torch.float)\n",
    "tr_y = torch.tensor(tr_y_df.values, dtype=torch.float)"
   ]
  },
  {
   "cell_type": "code",
   "execution_count": 14,
   "id": "46a35a74",
   "metadata": {},
   "outputs": [
    {
     "data": {
      "text/plain": [
       "(torch.Size([12968, 18]), torch.Size([12968, 1]))"
      ]
     },
     "execution_count": 14,
     "metadata": {},
     "output_type": "execute_result"
    }
   ],
   "source": [
    "tr_x.shape, tr_y.shape"
   ]
  },
  {
   "cell_type": "code",
   "execution_count": 15,
   "id": "434faceb",
   "metadata": {},
   "outputs": [],
   "source": [
    "#loading validation set\n",
    "val = pd.read_csv('price_data_val.csv')"
   ]
  },
  {
   "cell_type": "code",
   "execution_count": 16,
   "id": "a3547b5c",
   "metadata": {},
   "outputs": [
    {
     "data": {
      "text/plain": [
       "(['bedrooms',\n",
       "  'bathrooms',\n",
       "  'sqft_living',\n",
       "  'sqft_lot',\n",
       "  'floors',\n",
       "  'waterfront',\n",
       "  'view',\n",
       "  'condition',\n",
       "  'grade',\n",
       "  'sqft_above',\n",
       "  'sqft_basement',\n",
       "  'yr_built',\n",
       "  'yr_renovated',\n",
       "  'zipcode',\n",
       "  'lat',\n",
       "  'long',\n",
       "  'sqft_living15',\n",
       "  'sqft_lot15'],\n",
       " ['price'])"
      ]
     },
     "execution_count": 16,
     "metadata": {},
     "output_type": "execute_result"
    }
   ],
   "source": [
    "val = val.drop(['id', 'date'], axis=1)\n",
    "\n",
    "val_x_col = list(val.columns)   # make a list of columns\n",
    "val_x_col.remove('price')\n",
    "val_y_col = ['price']\n",
    "\n",
    "val_x_col, val_y_col"
   ]
  },
  {
   "cell_type": "code",
   "execution_count": 17,
   "id": "2687cd63",
   "metadata": {},
   "outputs": [
    {
     "data": {
      "text/plain": [
       "(torch.Size([4323, 18]), torch.Size([4323, 1]))"
      ]
     },
     "execution_count": 17,
     "metadata": {},
     "output_type": "execute_result"
    }
   ],
   "source": [
    "val_x_df = pd.DataFrame(val, columns=val_x_col)\n",
    "val_y_df = pd.DataFrame(val, columns=val_y_col)\n",
    "\n",
    "val_x = torch.tensor(val_x_df.values, dtype=torch.float)\n",
    "val_y = torch.tensor(val_y_df.values, dtype=torch.float)\n",
    "\n",
    "val_x.shape, val_y.shape"
   ]
  },
  {
   "cell_type": "code",
   "execution_count": 18,
   "id": "dfd8ad89",
   "metadata": {},
   "outputs": [
    {
     "name": "stdout",
     "output_type": "stream",
     "text": [
      "0.999495665383272\n"
     ]
    }
   ],
   "source": [
    "dtr = DecisionTreeRegressor().fit(tr_x, tr_y)\n",
    "print(dtr.score(tr_x, tr_y))"
   ]
  },
  {
   "cell_type": "code",
   "execution_count": 19,
   "id": "b7cabba2",
   "metadata": {},
   "outputs": [],
   "source": [
    "res = dtr.predict(val_x)"
   ]
  },
  {
   "cell_type": "code",
   "execution_count": 20,
   "id": "7595b11c",
   "metadata": {},
   "outputs": [
    {
     "data": {
      "text/plain": [
       "array([342500., 509950., 400000., ..., 465000., 745000., 450000.])"
      ]
     },
     "execution_count": 20,
     "metadata": {},
     "output_type": "execute_result"
    }
   ],
   "source": [
    "res"
   ]
  },
  {
   "cell_type": "code",
   "execution_count": 21,
   "id": "d7eacad7",
   "metadata": {},
   "outputs": [
    {
     "data": {
      "text/plain": [
       "torch.Tensor"
      ]
     },
     "execution_count": 21,
     "metadata": {},
     "output_type": "execute_result"
    }
   ],
   "source": [
    "type(val_y)"
   ]
  },
  {
   "cell_type": "code",
   "execution_count": 22,
   "id": "d6475ca0",
   "metadata": {},
   "outputs": [
    {
     "data": {
      "text/plain": [
       "tensor([False])"
      ]
     },
     "execution_count": 22,
     "metadata": {},
     "output_type": "execute_result"
    }
   ],
   "source": [
    "val_y[2] == res[2]"
   ]
  },
  {
   "cell_type": "code",
   "execution_count": 23,
   "id": "df658179",
   "metadata": {},
   "outputs": [
    {
     "name": "stdout",
     "output_type": "stream",
     "text": [
      "500000.0\n",
      "317000.0\n",
      "310000.0\n",
      "635000.0\n",
      "585000.0\n",
      "539950.0\n",
      "430000.0\n",
      "950000.0\n",
      "490000.0\n",
      "375000.0\n",
      "430000.0\n",
      "575000.0\n",
      "437500.0\n",
      "450000.0\n",
      "255000.0\n",
      "375000.0\n",
      "392000.0\n",
      "330000.0\n",
      "925000.0\n",
      "870000.0\n",
      "940000.0\n",
      "340000.0\n",
      "210000.0\n",
      "540000.0\n",
      "610000.0\n",
      "850000.0\n",
      "350000.0\n",
      "799950.0\n",
      "990000.0\n",
      "420000.0\n",
      "525000.0\n",
      "255000.0\n",
      "685000.0\n",
      "305000.0\n",
      "415000.0\n",
      "428000.0\n",
      "350000.0\n",
      "700000.0\n",
      "38\n"
     ]
    }
   ],
   "source": [
    "#val_y = val_y.numpy()\n",
    "count = 0\n",
    "for i in range(len(res)):\n",
    "    if (res[i] == val_y[i]):\n",
    "        count += 1\n",
    "        print(res[i])\n",
    "print(count)"
   ]
  },
  {
   "cell_type": "code",
   "execution_count": 24,
   "id": "58f82fa1",
   "metadata": {},
   "outputs": [],
   "source": [
    "# norma;izing values\n",
    "\n",
    "tr_x = (tr_x - tr_x.mean())/ tr_x.std()\n",
    "val_x = (val_x - val_x.mean())/ val_x.std()"
   ]
  },
  {
   "cell_type": "code",
   "execution_count": 25,
   "id": "fee85eb2",
   "metadata": {},
   "outputs": [
    {
     "name": "stdout",
     "output_type": "stream",
     "text": [
      "0.9994929630131416\n"
     ]
    }
   ],
   "source": [
    "dtr = DecisionTreeRegressor().fit(tr_x, tr_y)\n",
    "print(dtr.score(tr_x, tr_y))"
   ]
  },
  {
   "cell_type": "code",
   "execution_count": 26,
   "id": "138b816e",
   "metadata": {},
   "outputs": [],
   "source": [
    "res2 = dtr.predict(val_x)"
   ]
  },
  {
   "cell_type": "code",
   "execution_count": 27,
   "id": "ab2fa3a8",
   "metadata": {},
   "outputs": [
    {
     "name": "stdout",
     "output_type": "stream",
     "text": [
      "500000.0\n",
      "317000.0\n",
      "310000.0\n",
      "635000.0\n",
      "585000.0\n",
      "539950.0\n",
      "430000.0\n",
      "950000.0\n",
      "490000.0\n",
      "375000.0\n",
      "430000.0\n",
      "575000.0\n",
      "437500.0\n",
      "450000.0\n",
      "255000.0\n",
      "375000.0\n",
      "392000.0\n",
      "330000.0\n",
      "925000.0\n",
      "870000.0\n",
      "940000.0\n",
      "340000.0\n",
      "210000.0\n",
      "540000.0\n",
      "610000.0\n",
      "850000.0\n",
      "350000.0\n",
      "799950.0\n",
      "990000.0\n",
      "420000.0\n",
      "525000.0\n",
      "255000.0\n",
      "685000.0\n",
      "305000.0\n",
      "415000.0\n",
      "428000.0\n",
      "350000.0\n",
      "700000.0\n",
      "38\n"
     ]
    }
   ],
   "source": [
    "#val_y_np = val_y.numpy()\n",
    "count = 0\n",
    "for i in range(len(res)):\n",
    "    if (res[i] == val_y[i]):\n",
    "        count += 1\n",
    "        print(res[i])\n",
    "print(count)"
   ]
  },
  {
   "cell_type": "code",
   "execution_count": 28,
   "id": "ab0e84ab",
   "metadata": {},
   "outputs": [
    {
     "name": "stdout",
     "output_type": "stream",
     "text": [
      "<class 'pandas.core.frame.DataFrame'>\n",
      "RangeIndex: 4322 entries, 0 to 4321\n",
      "Data columns (total 19 columns):\n",
      " #   Column         Non-Null Count  Dtype  \n",
      "---  ------         --------------  -----  \n",
      " 0   price          0 non-null      float64\n",
      " 1   bedrooms       4322 non-null   int64  \n",
      " 2   bathrooms      4322 non-null   float64\n",
      " 3   sqft_living    4322 non-null   int64  \n",
      " 4   sqft_lot       4322 non-null   int64  \n",
      " 5   floors         4322 non-null   float64\n",
      " 6   waterfront     4322 non-null   int64  \n",
      " 7   view           4322 non-null   int64  \n",
      " 8   condition      4322 non-null   int64  \n",
      " 9   grade          4322 non-null   int64  \n",
      " 10  sqft_above     4322 non-null   int64  \n",
      " 11  sqft_basement  4322 non-null   int64  \n",
      " 12  yr_built       4322 non-null   int64  \n",
      " 13  yr_renovated   4322 non-null   int64  \n",
      " 14  zipcode        4322 non-null   int64  \n",
      " 15  lat            4322 non-null   float64\n",
      " 16  long           4322 non-null   float64\n",
      " 17  sqft_living15  4322 non-null   int64  \n",
      " 18  sqft_lot15     4322 non-null   int64  \n",
      "dtypes: float64(5), int64(14)\n",
      "memory usage: 641.7 KB\n"
     ]
    }
   ],
   "source": [
    "test = pd.read_csv('price_data_ts.csv')\n",
    "test = test.drop(['id', 'date'], axis=1)\n",
    "\n",
    "test.info()"
   ]
  },
  {
   "cell_type": "code",
   "execution_count": 29,
   "id": "9443f9ab",
   "metadata": {},
   "outputs": [],
   "source": [
    "val_x_col\n",
    "test_x_df = pd.DataFrame(test, columns=val_x_col)\n",
    "test_x = torch.tensor(test_x_df.values, dtype=torch.float)"
   ]
  },
  {
   "cell_type": "code",
   "execution_count": 30,
   "id": "7f9c34db",
   "metadata": {},
   "outputs": [
    {
     "data": {
      "text/plain": [
       "array([2280000.])"
      ]
     },
     "execution_count": 30,
     "metadata": {},
     "output_type": "execute_result"
    }
   ],
   "source": [
    "res2 = dtr.predict(test_x)\n",
    "np.unique(res2)"
   ]
  },
  {
   "cell_type": "code",
   "execution_count": 31,
   "id": "91f5a724",
   "metadata": {},
   "outputs": [],
   "source": [
    "test = pd.read_csv('price_data_ts.csv')\n",
    "res_col = ['id', 'price']\n",
    "res_df = pd.DataFrame(test, columns=res_col)\n",
    "res_df['id'], res_df['price'] = test['id'], res2"
   ]
  },
  {
   "cell_type": "code",
   "execution_count": 32,
   "id": "095ffebe",
   "metadata": {},
   "outputs": [],
   "source": [
    "res_df.to_csv('result.csv')"
   ]
  },
  {
   "cell_type": "code",
   "execution_count": 33,
   "id": "5276d7e1",
   "metadata": {},
   "outputs": [],
   "source": [
    "res_df['id'] = res_df['id'].astype(str)+test['date'].astype(str)"
   ]
  },
  {
   "cell_type": "code",
   "execution_count": 34,
   "id": "1af9e2e6",
   "metadata": {},
   "outputs": [
    {
     "data": {
      "text/plain": [
       "0       0700010085020140926T000000\n",
       "1       0403740028020140923T000000\n",
       "2       0142340016020140618T000000\n",
       "3       0776740006020141119T000000\n",
       "4       0946590050020140617T000000\n",
       "                   ...            \n",
       "4317    0733822037020141006T000000\n",
       "4318    0681910015020140721T000000\n",
       "4319     082405914020140527T000000\n",
       "4320     051450009020140513T000000\n",
       "4321    0770180005020140625T000000\n",
       "Name: id, Length: 4322, dtype: object"
      ]
     },
     "execution_count": 34,
     "metadata": {},
     "output_type": "execute_result"
    }
   ],
   "source": [
    "#addinf 0 in the front\n",
    "res_df['id'] = str(0)+res_df['id'].astype(str)\n",
    "res_df['id']"
   ]
  },
  {
   "cell_type": "code",
   "execution_count": 35,
   "id": "de5edde5",
   "metadata": {},
   "outputs": [],
   "source": [
    "res_df.to_csv('result.csv', index=False)"
   ]
  },
  {
   "cell_type": "code",
   "execution_count": 36,
   "id": "732f44b7",
   "metadata": {},
   "outputs": [
    {
     "data": {
      "text/html": [
       "<div>\n",
       "<style scoped>\n",
       "    .dataframe tbody tr th:only-of-type {\n",
       "        vertical-align: middle;\n",
       "    }\n",
       "\n",
       "    .dataframe tbody tr th {\n",
       "        vertical-align: top;\n",
       "    }\n",
       "\n",
       "    .dataframe thead th {\n",
       "        text-align: right;\n",
       "    }\n",
       "</style>\n",
       "<table border=\"1\" class=\"dataframe\">\n",
       "  <thead>\n",
       "    <tr style=\"text-align: right;\">\n",
       "      <th></th>\n",
       "      <th>id</th>\n",
       "      <th>price</th>\n",
       "    </tr>\n",
       "  </thead>\n",
       "  <tbody>\n",
       "    <tr>\n",
       "      <th>0</th>\n",
       "      <td>0700010085020140926T000000</td>\n",
       "      <td>2280000.0</td>\n",
       "    </tr>\n",
       "    <tr>\n",
       "      <th>1</th>\n",
       "      <td>0403740028020140923T000000</td>\n",
       "      <td>2280000.0</td>\n",
       "    </tr>\n",
       "    <tr>\n",
       "      <th>2</th>\n",
       "      <td>0142340016020140618T000000</td>\n",
       "      <td>2280000.0</td>\n",
       "    </tr>\n",
       "    <tr>\n",
       "      <th>3</th>\n",
       "      <td>0776740006020141119T000000</td>\n",
       "      <td>2280000.0</td>\n",
       "    </tr>\n",
       "    <tr>\n",
       "      <th>4</th>\n",
       "      <td>0946590050020140617T000000</td>\n",
       "      <td>2280000.0</td>\n",
       "    </tr>\n",
       "    <tr>\n",
       "      <th>...</th>\n",
       "      <td>...</td>\n",
       "      <td>...</td>\n",
       "    </tr>\n",
       "    <tr>\n",
       "      <th>4317</th>\n",
       "      <td>0733822037020141006T000000</td>\n",
       "      <td>2280000.0</td>\n",
       "    </tr>\n",
       "    <tr>\n",
       "      <th>4318</th>\n",
       "      <td>0681910015020140721T000000</td>\n",
       "      <td>2280000.0</td>\n",
       "    </tr>\n",
       "    <tr>\n",
       "      <th>4319</th>\n",
       "      <td>082405914020140527T000000</td>\n",
       "      <td>2280000.0</td>\n",
       "    </tr>\n",
       "    <tr>\n",
       "      <th>4320</th>\n",
       "      <td>051450009020140513T000000</td>\n",
       "      <td>2280000.0</td>\n",
       "    </tr>\n",
       "    <tr>\n",
       "      <th>4321</th>\n",
       "      <td>0770180005020140625T000000</td>\n",
       "      <td>2280000.0</td>\n",
       "    </tr>\n",
       "  </tbody>\n",
       "</table>\n",
       "<p>4322 rows × 2 columns</p>\n",
       "</div>"
      ],
      "text/plain": [
       "                              id      price\n",
       "0     0700010085020140926T000000  2280000.0\n",
       "1     0403740028020140923T000000  2280000.0\n",
       "2     0142340016020140618T000000  2280000.0\n",
       "3     0776740006020141119T000000  2280000.0\n",
       "4     0946590050020140617T000000  2280000.0\n",
       "...                          ...        ...\n",
       "4317  0733822037020141006T000000  2280000.0\n",
       "4318  0681910015020140721T000000  2280000.0\n",
       "4319   082405914020140527T000000  2280000.0\n",
       "4320   051450009020140513T000000  2280000.0\n",
       "4321  0770180005020140625T000000  2280000.0\n",
       "\n",
       "[4322 rows x 2 columns]"
      ]
     },
     "execution_count": 36,
     "metadata": {},
     "output_type": "execute_result"
    }
   ],
   "source": [
    "res_df"
   ]
  },
  {
   "cell_type": "code",
   "execution_count": null,
   "id": "b49858a5",
   "metadata": {},
   "outputs": [],
   "source": []
  }
 ],
 "metadata": {
  "kernelspec": {
   "display_name": "Python 3 (ipykernel)",
   "language": "python",
   "name": "python3"
  },
  "language_info": {
   "codemirror_mode": {
    "name": "ipython",
    "version": 3
   },
   "file_extension": ".py",
   "mimetype": "text/x-python",
   "name": "python",
   "nbconvert_exporter": "python",
   "pygments_lexer": "ipython3",
   "version": "3.8.11"
  }
 },
 "nbformat": 4,
 "nbformat_minor": 5
}
